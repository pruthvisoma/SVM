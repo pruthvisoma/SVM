{
  "cells": [
    {
      "cell_type": "markdown",
      "metadata": {
        "id": "5ZcIZN3op0h_"
      },
      "source": [
        "### <span style = 'color:green'> Create a machine learning model that can predict the pulser star </span>\n",
        "\n",
        "\n",
        "**Support Vector Machines(SVM)**\n",
        "- Support Vector Machines (SVMs in short) are machine learning algorithms that are used for classification and regression purposes. SVMs are one of the powerful machine learning algorithms for classification, regression and outlier detection purposes. An SVM classifier builds a model that assigns new data points to one of the given categories. Thus, it can be viewed as a non-probabilistic binary linear classifier.\n",
        "\n",
        "**About the dataset**\n",
        "- Pulsars are a rare type of Neutron star that produce radio emission detectable here on Earth. They are of considerable scientific interest as probes of space-time, the inter-stellar medium, and states of matter. Machine learning tools are now being used to automatically label pulsar candidates to facilitate rapid analysis. Classification systems in particular are being widely adopted,which treat the candidate data sets as binary classification problems.\n",
        "\n",
        "**Expected output**\n",
        "- **Missing values should be treated**\n",
        "- **Perform Standerdisation and handle outliers**\n",
        "- **perform Support Vector Mchines and tune the model to increase the efficiency of the model**\n",
        "\n",
        "- For dataset please click here <a href=\"https://drive.google.com/file/d/19d2ocdl8d5rrE8Wc8nkBTFu_QrgtDt3q/view?usp=sharing\n",
        "\" title=\"Google Drive\">Click here</a>\n",
        "\n",
        "\n"
      ]
    },
    {
      "cell_type": "code",
      "execution_count": 48,
      "metadata": {
        "id": "plu2vCTVp0iD"
      },
      "outputs": [],
      "source": [
        "from sklearn import svm\n",
        "import numpy as np\n",
        "import pandas as pd\n",
        "import matplotlib.pyplot as plt\n",
        "import seaborn as sns\n",
        "from sklearn.metrics import accuracy_score\n",
        "from sklearn.model_selection import train_test_split\n",
        "from sklearn.metrics import confusion_matrix\n",
        "from sklearn.metrics import recall_score\n",
        "from sklearn.impute import SimpleImputer\n",
        "import warnings\n",
        "warnings.filterwarnings('ignore')"
      ]
    },
    {
      "cell_type": "code",
      "execution_count": 49,
      "metadata": {},
      "outputs": [],
      "source": [
        "df = pd.read_csv(r'SVM.csv') #reading the data"
      ]
    },
    {
      "cell_type": "code",
      "execution_count": 50,
      "metadata": {},
      "outputs": [
        {
          "data": {
            "text/html": [
              "<div>\n",
              "<style scoped>\n",
              "    .dataframe tbody tr th:only-of-type {\n",
              "        vertical-align: middle;\n",
              "    }\n",
              "\n",
              "    .dataframe tbody tr th {\n",
              "        vertical-align: top;\n",
              "    }\n",
              "\n",
              "    .dataframe thead th {\n",
              "        text-align: right;\n",
              "    }\n",
              "</style>\n",
              "<table border=\"1\" class=\"dataframe\">\n",
              "  <thead>\n",
              "    <tr style=\"text-align: right;\">\n",
              "      <th></th>\n",
              "      <th>Mean of the integrated profile</th>\n",
              "      <th>Standard deviation of the integrated profile</th>\n",
              "      <th>Excess kurtosis of the integrated profile</th>\n",
              "      <th>Skewness of the integrated profile</th>\n",
              "      <th>Mean of the DM-SNR curve</th>\n",
              "      <th>Standard deviation of the DM-SNR curve</th>\n",
              "      <th>Excess kurtosis of the DM-SNR curve</th>\n",
              "      <th>Skewness of the DM-SNR curve</th>\n",
              "      <th>target_class</th>\n",
              "    </tr>\n",
              "  </thead>\n",
              "  <tbody>\n",
              "    <tr>\n",
              "      <th>17891</th>\n",
              "      <td>113.210938</td>\n",
              "      <td>42.025039</td>\n",
              "      <td>NaN</td>\n",
              "      <td>0.469897</td>\n",
              "      <td>0.647993</td>\n",
              "      <td>9.051728</td>\n",
              "      <td>21.955583</td>\n",
              "      <td>559.245245</td>\n",
              "      <td>NaN</td>\n",
              "    </tr>\n",
              "    <tr>\n",
              "      <th>17892</th>\n",
              "      <td>93.828125</td>\n",
              "      <td>51.244986</td>\n",
              "      <td>0.387653</td>\n",
              "      <td>0.011425</td>\n",
              "      <td>1.926421</td>\n",
              "      <td>19.543869</td>\n",
              "      <td>10.996804</td>\n",
              "      <td>NaN</td>\n",
              "      <td>NaN</td>\n",
              "    </tr>\n",
              "    <tr>\n",
              "      <th>17893</th>\n",
              "      <td>116.531250</td>\n",
              "      <td>51.140269</td>\n",
              "      <td>-0.001220</td>\n",
              "      <td>-0.184189</td>\n",
              "      <td>4.510870</td>\n",
              "      <td>26.599514</td>\n",
              "      <td>6.634989</td>\n",
              "      <td>45.362390</td>\n",
              "      <td>NaN</td>\n",
              "    </tr>\n",
              "    <tr>\n",
              "      <th>17894</th>\n",
              "      <td>114.976562</td>\n",
              "      <td>53.783052</td>\n",
              "      <td>0.377599</td>\n",
              "      <td>-0.155708</td>\n",
              "      <td>2.772575</td>\n",
              "      <td>20.838488</td>\n",
              "      <td>8.440796</td>\n",
              "      <td>77.355028</td>\n",
              "      <td>NaN</td>\n",
              "    </tr>\n",
              "    <tr>\n",
              "      <th>17895</th>\n",
              "      <td>136.171875</td>\n",
              "      <td>48.924385</td>\n",
              "      <td>NaN</td>\n",
              "      <td>0.063227</td>\n",
              "      <td>2.810201</td>\n",
              "      <td>18.695230</td>\n",
              "      <td>7.848577</td>\n",
              "      <td>69.388978</td>\n",
              "      <td>NaN</td>\n",
              "    </tr>\n",
              "    <tr>\n",
              "      <th>17896</th>\n",
              "      <td>106.500000</td>\n",
              "      <td>49.066122</td>\n",
              "      <td>0.245742</td>\n",
              "      <td>0.140377</td>\n",
              "      <td>2.331104</td>\n",
              "      <td>15.417568</td>\n",
              "      <td>9.008041</td>\n",
              "      <td>100.367616</td>\n",
              "      <td>NaN</td>\n",
              "    </tr>\n",
              "    <tr>\n",
              "      <th>17897</th>\n",
              "      <td>110.679688</td>\n",
              "      <td>38.252642</td>\n",
              "      <td>0.459937</td>\n",
              "      <td>1.690689</td>\n",
              "      <td>4.434783</td>\n",
              "      <td>22.201794</td>\n",
              "      <td>5.939747</td>\n",
              "      <td>39.781374</td>\n",
              "      <td>NaN</td>\n",
              "    </tr>\n",
              "  </tbody>\n",
              "</table>\n",
              "</div>"
            ],
            "text/plain": [
              "        Mean of the integrated profile  \\\n",
              "17891                       113.210938   \n",
              "17892                        93.828125   \n",
              "17893                       116.531250   \n",
              "17894                       114.976562   \n",
              "17895                       136.171875   \n",
              "17896                       106.500000   \n",
              "17897                       110.679688   \n",
              "\n",
              "        Standard deviation of the integrated profile  \\\n",
              "17891                                      42.025039   \n",
              "17892                                      51.244986   \n",
              "17893                                      51.140269   \n",
              "17894                                      53.783052   \n",
              "17895                                      48.924385   \n",
              "17896                                      49.066122   \n",
              "17897                                      38.252642   \n",
              "\n",
              "        Excess kurtosis of the integrated profile  \\\n",
              "17891                                         NaN   \n",
              "17892                                    0.387653   \n",
              "17893                                   -0.001220   \n",
              "17894                                    0.377599   \n",
              "17895                                         NaN   \n",
              "17896                                    0.245742   \n",
              "17897                                    0.459937   \n",
              "\n",
              "        Skewness of the integrated profile   Mean of the DM-SNR curve  \\\n",
              "17891                             0.469897                   0.647993   \n",
              "17892                             0.011425                   1.926421   \n",
              "17893                            -0.184189                   4.510870   \n",
              "17894                            -0.155708                   2.772575   \n",
              "17895                             0.063227                   2.810201   \n",
              "17896                             0.140377                   2.331104   \n",
              "17897                             1.690689                   4.434783   \n",
              "\n",
              "        Standard deviation of the DM-SNR curve  \\\n",
              "17891                                 9.051728   \n",
              "17892                                19.543869   \n",
              "17893                                26.599514   \n",
              "17894                                20.838488   \n",
              "17895                                18.695230   \n",
              "17896                                15.417568   \n",
              "17897                                22.201794   \n",
              "\n",
              "        Excess kurtosis of the DM-SNR curve   Skewness of the DM-SNR curve  \\\n",
              "17891                             21.955583                     559.245245   \n",
              "17892                             10.996804                            NaN   \n",
              "17893                              6.634989                      45.362390   \n",
              "17894                              8.440796                      77.355028   \n",
              "17895                              7.848577                      69.388978   \n",
              "17896                              9.008041                     100.367616   \n",
              "17897                              5.939747                      39.781374   \n",
              "\n",
              "       target_class  \n",
              "17891           NaN  \n",
              "17892           NaN  \n",
              "17893           NaN  \n",
              "17894           NaN  \n",
              "17895           NaN  \n",
              "17896           NaN  \n",
              "17897           NaN  "
            ]
          },
          "execution_count": 50,
          "metadata": {},
          "output_type": "execute_result"
        }
      ],
      "source": [
        "df.tail(7) #checking the data"
      ]
    },
    {
      "cell_type": "code",
      "execution_count": 51,
      "metadata": {},
      "outputs": [
        {
          "data": {
            "text/plain": [
              "(17898, 9)"
            ]
          },
          "execution_count": 51,
          "metadata": {},
          "output_type": "execute_result"
        }
      ],
      "source": [
        "df.shape #checking the shape"
      ]
    },
    {
      "cell_type": "code",
      "execution_count": 52,
      "metadata": {},
      "outputs": [
        {
          "name": "stdout",
          "output_type": "stream",
          "text": [
            "<class 'pandas.core.frame.DataFrame'>\n",
            "RangeIndex: 17898 entries, 0 to 17897\n",
            "Data columns (total 9 columns):\n",
            " #   Column                                         Non-Null Count  Dtype  \n",
            "---  ------                                         --------------  -----  \n",
            " 0    Mean of the integrated profile                17898 non-null  float64\n",
            " 1    Standard deviation of the integrated profile  17898 non-null  float64\n",
            " 2    Excess kurtosis of the integrated profile     15396 non-null  float64\n",
            " 3    Skewness of the integrated profile            17898 non-null  float64\n",
            " 4    Mean of the DM-SNR curve                      17898 non-null  float64\n",
            " 5    Standard deviation of the DM-SNR curve        16196 non-null  float64\n",
            " 6    Excess kurtosis of the DM-SNR curve           17898 non-null  float64\n",
            " 7    Skewness of the DM-SNR curve                  17029 non-null  float64\n",
            " 8   target_class                                   12528 non-null  float64\n",
            "dtypes: float64(9)\n",
            "memory usage: 1.2 MB\n"
          ]
        }
      ],
      "source": [
        "df.info() #checking the data types if possible"
      ]
    },
    {
      "attachments": {},
      "cell_type": "markdown",
      "metadata": {},
      "source": [
        "There are four features with nan values in the dataset and maximum are there in the target_class of the datset. And all the dtypes of the featuers are float."
      ]
    },
    {
      "cell_type": "code",
      "execution_count": 53,
      "metadata": {},
      "outputs": [
        {
          "data": {
            "text/plain": [
              " Mean of the integrated profile                     0\n",
              " Standard deviation of the integrated profile       0\n",
              " Excess kurtosis of the integrated profile       2502\n",
              " Skewness of the integrated profile                 0\n",
              " Mean of the DM-SNR curve                           0\n",
              " Standard deviation of the DM-SNR curve          1702\n",
              " Excess kurtosis of the DM-SNR curve                0\n",
              " Skewness of the DM-SNR curve                     869\n",
              "target_class                                     5370\n",
              "dtype: int64"
            ]
          },
          "execution_count": 53,
          "metadata": {},
          "output_type": "execute_result"
        }
      ],
      "source": [
        "df.isna().sum()#checking for null values"
      ]
    },
    {
      "cell_type": "code",
      "execution_count": 54,
      "metadata": {},
      "outputs": [
        {
          "data": {
            "text/plain": [
              "0.3000335232986926"
            ]
          },
          "execution_count": 54,
          "metadata": {},
          "output_type": "execute_result"
        }
      ],
      "source": [
        "5370/17898"
      ]
    },
    {
      "attachments": {},
      "cell_type": "markdown",
      "metadata": {},
      "source": [
        "As there  are around 5370 missing values in the target_class, we are going to delete those rows as they constitute around 30% of total values. We couldn't impute those rows as they are used for lerning of the model. And also its not a good idea to impute the target and predict the same target."
      ]
    },
    {
      "cell_type": "code",
      "execution_count": 55,
      "metadata": {},
      "outputs": [],
      "source": [
        "df.dropna(subset='target_class', inplace= True)"
      ]
    },
    {
      "cell_type": "code",
      "execution_count": 56,
      "metadata": {},
      "outputs": [
        {
          "data": {
            "text/plain": [
              "(12528, 9)"
            ]
          },
          "execution_count": 56,
          "metadata": {},
          "output_type": "execute_result"
        }
      ],
      "source": [
        "df.shape"
      ]
    },
    {
      "cell_type": "code",
      "execution_count": 57,
      "metadata": {},
      "outputs": [
        {
          "data": {
            "text/html": [
              "<div>\n",
              "<style scoped>\n",
              "    .dataframe tbody tr th:only-of-type {\n",
              "        vertical-align: middle;\n",
              "    }\n",
              "\n",
              "    .dataframe tbody tr th {\n",
              "        vertical-align: top;\n",
              "    }\n",
              "\n",
              "    .dataframe thead th {\n",
              "        text-align: right;\n",
              "    }\n",
              "</style>\n",
              "<table border=\"1\" class=\"dataframe\">\n",
              "  <thead>\n",
              "    <tr style=\"text-align: right;\">\n",
              "      <th></th>\n",
              "      <th>Mean of the integrated profile</th>\n",
              "      <th>Standard deviation of the integrated profile</th>\n",
              "      <th>Excess kurtosis of the integrated profile</th>\n",
              "      <th>Skewness of the integrated profile</th>\n",
              "      <th>Mean of the DM-SNR curve</th>\n",
              "      <th>Standard deviation of the DM-SNR curve</th>\n",
              "      <th>Excess kurtosis of the DM-SNR curve</th>\n",
              "      <th>Skewness of the DM-SNR curve</th>\n",
              "      <th>target_class</th>\n",
              "    </tr>\n",
              "  </thead>\n",
              "  <tbody>\n",
              "    <tr>\n",
              "      <th>0</th>\n",
              "      <td>121.156250</td>\n",
              "      <td>48.372971</td>\n",
              "      <td>0.375485</td>\n",
              "      <td>-0.013165</td>\n",
              "      <td>3.168896</td>\n",
              "      <td>18.399367</td>\n",
              "      <td>7.449874</td>\n",
              "      <td>65.159298</td>\n",
              "      <td>0.0</td>\n",
              "    </tr>\n",
              "    <tr>\n",
              "      <th>1</th>\n",
              "      <td>76.968750</td>\n",
              "      <td>36.175557</td>\n",
              "      <td>0.712898</td>\n",
              "      <td>3.388719</td>\n",
              "      <td>2.399666</td>\n",
              "      <td>17.570997</td>\n",
              "      <td>9.414652</td>\n",
              "      <td>102.722975</td>\n",
              "      <td>0.0</td>\n",
              "    </tr>\n",
              "    <tr>\n",
              "      <th>2</th>\n",
              "      <td>130.585938</td>\n",
              "      <td>53.229534</td>\n",
              "      <td>0.133408</td>\n",
              "      <td>-0.297242</td>\n",
              "      <td>2.743311</td>\n",
              "      <td>22.362553</td>\n",
              "      <td>8.508364</td>\n",
              "      <td>74.031324</td>\n",
              "      <td>0.0</td>\n",
              "    </tr>\n",
              "    <tr>\n",
              "      <th>3</th>\n",
              "      <td>156.398438</td>\n",
              "      <td>48.865942</td>\n",
              "      <td>-0.215989</td>\n",
              "      <td>-0.171294</td>\n",
              "      <td>17.471572</td>\n",
              "      <td>NaN</td>\n",
              "      <td>2.958066</td>\n",
              "      <td>7.197842</td>\n",
              "      <td>0.0</td>\n",
              "    </tr>\n",
              "    <tr>\n",
              "      <th>4</th>\n",
              "      <td>84.804688</td>\n",
              "      <td>36.117659</td>\n",
              "      <td>0.825013</td>\n",
              "      <td>3.274125</td>\n",
              "      <td>2.790134</td>\n",
              "      <td>20.618009</td>\n",
              "      <td>8.405008</td>\n",
              "      <td>76.291128</td>\n",
              "      <td>0.0</td>\n",
              "    </tr>\n",
              "  </tbody>\n",
              "</table>\n",
              "</div>"
            ],
            "text/plain": [
              "    Mean of the integrated profile  \\\n",
              "0                       121.156250   \n",
              "1                        76.968750   \n",
              "2                       130.585938   \n",
              "3                       156.398438   \n",
              "4                        84.804688   \n",
              "\n",
              "    Standard deviation of the integrated profile  \\\n",
              "0                                      48.372971   \n",
              "1                                      36.175557   \n",
              "2                                      53.229534   \n",
              "3                                      48.865942   \n",
              "4                                      36.117659   \n",
              "\n",
              "    Excess kurtosis of the integrated profile  \\\n",
              "0                                    0.375485   \n",
              "1                                    0.712898   \n",
              "2                                    0.133408   \n",
              "3                                   -0.215989   \n",
              "4                                    0.825013   \n",
              "\n",
              "    Skewness of the integrated profile   Mean of the DM-SNR curve  \\\n",
              "0                            -0.013165                   3.168896   \n",
              "1                             3.388719                   2.399666   \n",
              "2                            -0.297242                   2.743311   \n",
              "3                            -0.171294                  17.471572   \n",
              "4                             3.274125                   2.790134   \n",
              "\n",
              "    Standard deviation of the DM-SNR curve  \\\n",
              "0                                18.399367   \n",
              "1                                17.570997   \n",
              "2                                22.362553   \n",
              "3                                      NaN   \n",
              "4                                20.618009   \n",
              "\n",
              "    Excess kurtosis of the DM-SNR curve   Skewness of the DM-SNR curve  \\\n",
              "0                              7.449874                      65.159298   \n",
              "1                              9.414652                     102.722975   \n",
              "2                              8.508364                      74.031324   \n",
              "3                              2.958066                       7.197842   \n",
              "4                              8.405008                      76.291128   \n",
              "\n",
              "   target_class  \n",
              "0           0.0  \n",
              "1           0.0  \n",
              "2           0.0  \n",
              "3           0.0  \n",
              "4           0.0  "
            ]
          },
          "execution_count": 57,
          "metadata": {},
          "output_type": "execute_result"
        }
      ],
      "source": [
        "df.head()"
      ]
    },
    {
      "cell_type": "code",
      "execution_count": 58,
      "metadata": {},
      "outputs": [
        {
          "data": {
            "text/plain": [
              " Mean of the integrated profile                     0\n",
              " Standard deviation of the integrated profile       0\n",
              " Excess kurtosis of the integrated profile       1735\n",
              " Skewness of the integrated profile                 0\n",
              " Mean of the DM-SNR curve                           0\n",
              " Standard deviation of the DM-SNR curve          1178\n",
              " Excess kurtosis of the DM-SNR curve                0\n",
              " Skewness of the DM-SNR curve                     625\n",
              "target_class                                        0\n",
              "dtype: int64"
            ]
          },
          "execution_count": 58,
          "metadata": {},
          "output_type": "execute_result"
        }
      ],
      "source": [
        "df.isna().sum()"
      ]
    },
    {
      "attachments": {},
      "cell_type": "markdown",
      "metadata": {},
      "source": [
        "There are null values in three more rows and lets see how we can deal with them. Before that we have to treat outliers. If we impute the missing data without treating outliers. It may end up with change in the imputing values."
      ]
    },
    {
      "cell_type": "code",
      "execution_count": 59,
      "metadata": {},
      "outputs": [
        {
          "data": {
            "image/png": "[encoded data removed]",
            "text/plain": [
              "<Figure size 864x432 with 1 Axes>"
            ]
          },
          "metadata": {
            "needs_background": "light"
          },
          "output_type": "display_data"
        },
        {
          "data": {
            "image/png": "[encoded data removed]",
            "text/plain": [
              "<Figure size 864x432 with 1 Axes>"
            ]
          },
          "metadata": {
            "needs_background": "light"
          },
          "output_type": "display_data"
        },
        {
          "data": {
            "image/png": "[encoded data removed]",
            "text/plain": [
              "<Figure size 864x432 with 1 Axes>"
            ]
          },
          "metadata": {
            "needs_background": "light"
          },
          "output_type": "display_data"
        },
        {
          "data": {
            "image/png": "[encoded data removed]",
            "text/plain": [
              "<Figure size 864x432 with 1 Axes>"
            ]
          },
          "metadata": {
            "needs_background": "light"
          },
          "output_type": "display_data"
        },
        {
          "data": {
            "image/png": "[encoded data removed]",
            "text/plain": [
              "<Figure size 864x432 with 1 Axes>"
            ]
          },
          "metadata": {
            "needs_background": "light"
          },
          "output_type": "display_data"
        },
        {
          "data": {
            "image/png": "[encoded data removed]",
            "text/plain": [
              "<Figure size 864x432 with 1 Axes>"
            ]
          },
          "metadata": {
            "needs_background": "light"
          },
          "output_type": "display_data"
        },
        {
          "data": {
            "image/png": "[encoded data removed]",
            "text/plain": [
              "<Figure size 864x432 with 1 Axes>"
            ]
          },
          "metadata": {
            "needs_background": "light"
          },
          "output_type": "display_data"
        },
        {
          "data": {
            "image/png": "[encoded data removed]",
            "text/plain": [
              "<Figure size 864x432 with 1 Axes>"
            ]
          },
          "metadata": {
            "needs_background": "light"
          },
          "output_type": "display_data"
        }
      ],
      "source": [
        "for i in range(len(df.columns) -1):\n",
        "    plt.figure(figsize= (12, 6))\n",
        "    sns.boxplot(df[df.columns[i]])"
      ]
    },
    {
      "cell_type": "markdown",
      "metadata": {},
      "source": [
        "From the above image we can see the outliers in all the features of the data."
      ]
    },
    {
      "cell_type": "code",
      "execution_count": 60,
      "metadata": {},
      "outputs": [],
      "source": [
        "# def remove_outlier_IQR(df):\n",
        "#     Q1=df.quantile(0.25)\n",
        "#     Q3=df.quantile(0.75)\n",
        "#     IQR=Q3-Q1\n",
        "#     df_final=df[~((df<(Q1-1.5*IQR)) | (df>(Q3+1.5*IQR)))]\n",
        "#     return df_final\n",
        "# df = remove_outlier_IQR(df)"
      ]
    },
    {
      "attachments": {},
      "cell_type": "markdown",
      "metadata": {},
      "source": [
        "____If I remove the outliers it completely removes a class, So I commented the above code and images are just for reference. You can check by uncommenting the above cell.____"
      ]
    },
    {
      "cell_type": "code",
      "execution_count": 61,
      "metadata": {},
      "outputs": [
        {
          "data": {
            "text/plain": [
              "(12528, 9)"
            ]
          },
          "execution_count": 61,
          "metadata": {},
          "output_type": "execute_result"
        }
      ],
      "source": [
        "df.shape"
      ]
    },
    {
      "cell_type": "code",
      "execution_count": 260,
      "metadata": {},
      "outputs": [
        {
          "data": {
            "image/png": "[encoded data removed]",
            "text/plain": [
              "<Figure size 864x432 with 1 Axes>"
            ]
          },
          "metadata": {
            "needs_background": "light"
          },
          "output_type": "display_data"
        },
        {
          "data": {
            "image/png": "[encoded data removed]",
            "text/plain": [
              "<Figure size 864x432 with 1 Axes>"
            ]
          },
          "metadata": {
            "needs_background": "light"
          },
          "output_type": "display_data"
        },
        {
          "data": {
            "image/png": "[encoded data removed]",
            "text/plain": [
              "<Figure size 864x432 with 1 Axes>"
            ]
          },
          "metadata": {
            "needs_background": "light"
          },
          "output_type": "display_data"
        },
        {
          "data": {
            "image/png": "[encoded data removed]",
            "text/plain": [
              "<Figure size 864x432 with 1 Axes>"
            ]
          },
          "metadata": {
            "needs_background": "light"
          },
          "output_type": "display_data"
        },
        {
          "data": {
            "image/png": "[encoded data removed]",
            "text/plain": [
              "<Figure size 864x432 with 1 Axes>"
            ]
          },
          "metadata": {
            "needs_background": "light"
          },
          "output_type": "display_data"
        },
        {
          "data": {
            "image/png": "[encoded data removed]",
            "text/plain": [
              "<Figure size 864x432 with 1 Axes>"
            ]
          },
          "metadata": {
            "needs_background": "light"
          },
          "output_type": "display_data"
        },
        {
          "data": {
            "image/png": "[encoded data removed]",
            "text/plain": [
              "<Figure size 864x432 with 1 Axes>"
            ]
          },
          "metadata": {
            "needs_background": "light"
          },
          "output_type": "display_data"
        },
        {
          "data": {
            "image/png": "[encoded data removed]",
            "text/plain": [
              "<Figure size 864x432 with 1 Axes>"
            ]
          },
          "metadata": {
            "needs_background": "light"
          },
          "output_type": "display_data"
        }
      ],
      "source": [
        "#Presenting the data if outliers are removed\n",
        "for i in range(len(df.columns) -1):\n",
        "    plt.figure(figsize= (12, 6))\n",
        "    sns.boxplot(df[df.columns[i]])"
      ]
    },
    {
      "cell_type": "markdown",
      "metadata": {},
      "source": [
        "You can now see that lot of the outliers are removed and data is much cleaner"
      ]
    },
    {
      "cell_type": "markdown",
      "metadata": {},
      "source": [
        "__Let's work on the imputation__"
      ]
    },
    {
      "cell_type": "code",
      "execution_count": 62,
      "metadata": {},
      "outputs": [
        {
          "data": {
            "text/plain": [
              "0    0.375485\n",
              "1    0.712898\n",
              "2    0.133408\n",
              "3   -0.215989\n",
              "4    0.825013\n",
              "5    0.229708\n",
              "6    1.063413\n",
              "7    0.565106\n",
              "8    0.347578\n",
              "9    0.394182\n",
              "Name:  Excess kurtosis of the integrated profile, dtype: float64"
            ]
          },
          "execution_count": 62,
          "metadata": {},
          "output_type": "execute_result"
        }
      ],
      "source": [
        "df[' Excess kurtosis of the integrated profile'].head(10) #Checking the data\n",
        "#df.columns[2]"
      ]
    },
    {
      "cell_type": "code",
      "execution_count": 63,
      "metadata": {},
      "outputs": [
        {
          "data": {
            "image/png": "[encoded data removed]",
            "text/plain": [
              "<Figure size 1080x432 with 1 Axes>"
            ]
          },
          "metadata": {
            "needs_background": "light"
          },
          "output_type": "display_data"
        }
      ],
      "source": [
        "plt.figure(figsize = (15, 6))\n",
        "sns.distplot(df[' Excess kurtosis of the integrated profile']); #Plotting the Dist plot to check the data shape. If you run the same after removing the outliers, It will be much binomial i.e., normal"
      ]
    },
    {
      "cell_type": "markdown",
      "metadata": {},
      "source": [
        "From the above image we can easily find that data here is continuous, normal and right skewed data."
      ]
    },
    {
      "attachments": {},
      "cell_type": "markdown",
      "metadata": {},
      "source": [
        "__Imputing the missing values:__"
      ]
    },
    {
      "cell_type": "code",
      "execution_count": 64,
      "metadata": {},
      "outputs": [
        {
          "data": {
            "text/html": [
              "<div>\n",
              "<style scoped>\n",
              "    .dataframe tbody tr th:only-of-type {\n",
              "        vertical-align: middle;\n",
              "    }\n",
              "\n",
              "    .dataframe tbody tr th {\n",
              "        vertical-align: top;\n",
              "    }\n",
              "\n",
              "    .dataframe thead th {\n",
              "        text-align: right;\n",
              "    }\n",
              "</style>\n",
              "<table border=\"1\" class=\"dataframe\">\n",
              "  <thead>\n",
              "    <tr style=\"text-align: right;\">\n",
              "      <th></th>\n",
              "      <th>Mean of the integrated profile</th>\n",
              "      <th>Standard deviation of the integrated profile</th>\n",
              "      <th>Excess kurtosis of the integrated profile</th>\n",
              "      <th>Skewness of the integrated profile</th>\n",
              "      <th>Mean of the DM-SNR curve</th>\n",
              "      <th>Standard deviation of the DM-SNR curve</th>\n",
              "      <th>Excess kurtosis of the DM-SNR curve</th>\n",
              "      <th>Skewness of the DM-SNR curve</th>\n",
              "      <th>target_class</th>\n",
              "    </tr>\n",
              "  </thead>\n",
              "  <tbody>\n",
              "    <tr>\n",
              "      <th>13</th>\n",
              "      <td>128.734375</td>\n",
              "      <td>48.695560</td>\n",
              "      <td>NaN</td>\n",
              "      <td>0.307803</td>\n",
              "      <td>5.307692</td>\n",
              "      <td>25.162295</td>\n",
              "      <td>5.497544</td>\n",
              "      <td>32.739833</td>\n",
              "      <td>0.0</td>\n",
              "    </tr>\n",
              "    <tr>\n",
              "      <th>18</th>\n",
              "      <td>115.781250</td>\n",
              "      <td>53.305713</td>\n",
              "      <td>NaN</td>\n",
              "      <td>-0.518847</td>\n",
              "      <td>3.565217</td>\n",
              "      <td>22.372342</td>\n",
              "      <td>7.740922</td>\n",
              "      <td>65.024844</td>\n",
              "      <td>0.0</td>\n",
              "    </tr>\n",
              "    <tr>\n",
              "      <th>37</th>\n",
              "      <td>107.703125</td>\n",
              "      <td>44.726313</td>\n",
              "      <td>NaN</td>\n",
              "      <td>0.390775</td>\n",
              "      <td>2.598662</td>\n",
              "      <td>17.145047</td>\n",
              "      <td>8.498741</td>\n",
              "      <td>85.013918</td>\n",
              "      <td>0.0</td>\n",
              "    </tr>\n",
              "    <tr>\n",
              "      <th>51</th>\n",
              "      <td>107.070312</td>\n",
              "      <td>51.695198</td>\n",
              "      <td>NaN</td>\n",
              "      <td>-0.400658</td>\n",
              "      <td>1.832776</td>\n",
              "      <td>17.559706</td>\n",
              "      <td>10.530075</td>\n",
              "      <td>117.131775</td>\n",
              "      <td>0.0</td>\n",
              "    </tr>\n",
              "    <tr>\n",
              "      <th>55</th>\n",
              "      <td>120.593750</td>\n",
              "      <td>55.713895</td>\n",
              "      <td>NaN</td>\n",
              "      <td>-0.232142</td>\n",
              "      <td>3.531773</td>\n",
              "      <td>20.847988</td>\n",
              "      <td>8.088508</td>\n",
              "      <td>75.919711</td>\n",
              "      <td>0.0</td>\n",
              "    </tr>\n",
              "    <tr>\n",
              "      <th>...</th>\n",
              "      <td>...</td>\n",
              "      <td>...</td>\n",
              "      <td>...</td>\n",
              "      <td>...</td>\n",
              "      <td>...</td>\n",
              "      <td>...</td>\n",
              "      <td>...</td>\n",
              "      <td>...</td>\n",
              "      <td>...</td>\n",
              "    </tr>\n",
              "    <tr>\n",
              "      <th>12489</th>\n",
              "      <td>113.812500</td>\n",
              "      <td>49.409284</td>\n",
              "      <td>NaN</td>\n",
              "      <td>0.030844</td>\n",
              "      <td>2.107860</td>\n",
              "      <td>12.690788</td>\n",
              "      <td>10.352528</td>\n",
              "      <td>154.106467</td>\n",
              "      <td>0.0</td>\n",
              "    </tr>\n",
              "    <tr>\n",
              "      <th>12492</th>\n",
              "      <td>113.140625</td>\n",
              "      <td>45.938093</td>\n",
              "      <td>NaN</td>\n",
              "      <td>0.576436</td>\n",
              "      <td>2.368729</td>\n",
              "      <td>NaN</td>\n",
              "      <td>9.520229</td>\n",
              "      <td>98.357322</td>\n",
              "      <td>0.0</td>\n",
              "    </tr>\n",
              "    <tr>\n",
              "      <th>12496</th>\n",
              "      <td>120.859375</td>\n",
              "      <td>42.477335</td>\n",
              "      <td>NaN</td>\n",
              "      <td>0.902152</td>\n",
              "      <td>3.030100</td>\n",
              "      <td>NaN</td>\n",
              "      <td>8.081578</td>\n",
              "      <td>77.062141</td>\n",
              "      <td>0.0</td>\n",
              "    </tr>\n",
              "    <tr>\n",
              "      <th>12504</th>\n",
              "      <td>85.015625</td>\n",
              "      <td>36.717244</td>\n",
              "      <td>NaN</td>\n",
              "      <td>2.503142</td>\n",
              "      <td>3.262542</td>\n",
              "      <td>21.981437</td>\n",
              "      <td>7.249661</td>\n",
              "      <td>54.863037</td>\n",
              "      <td>0.0</td>\n",
              "    </tr>\n",
              "    <tr>\n",
              "      <th>12513</th>\n",
              "      <td>127.609375</td>\n",
              "      <td>53.509379</td>\n",
              "      <td>NaN</td>\n",
              "      <td>-0.564330</td>\n",
              "      <td>0.527592</td>\n",
              "      <td>8.985407</td>\n",
              "      <td>22.332707</td>\n",
              "      <td>571.169156</td>\n",
              "      <td>0.0</td>\n",
              "    </tr>\n",
              "  </tbody>\n",
              "</table>\n",
              "<p>1735 rows × 9 columns</p>\n",
              "</div>"
            ],
            "text/plain": [
              "        Mean of the integrated profile  \\\n",
              "13                          128.734375   \n",
              "18                          115.781250   \n",
              "37                          107.703125   \n",
              "51                          107.070312   \n",
              "55                          120.593750   \n",
              "...                                ...   \n",
              "12489                       113.812500   \n",
              "12492                       113.140625   \n",
              "12496                       120.859375   \n",
              "12504                        85.015625   \n",
              "12513                       127.609375   \n",
              "\n",
              "        Standard deviation of the integrated profile  \\\n",
              "13                                         48.695560   \n",
              "18                                         53.305713   \n",
              "37                                         44.726313   \n",
              "51                                         51.695198   \n",
              "55                                         55.713895   \n",
              "...                                              ...   \n",
              "12489                                      49.409284   \n",
              "12492                                      45.938093   \n",
              "12496                                      42.477335   \n",
              "12504                                      36.717244   \n",
              "12513                                      53.509379   \n",
              "\n",
              "        Excess kurtosis of the integrated profile  \\\n",
              "13                                            NaN   \n",
              "18                                            NaN   \n",
              "37                                            NaN   \n",
              "51                                            NaN   \n",
              "55                                            NaN   \n",
              "...                                           ...   \n",
              "12489                                         NaN   \n",
              "12492                                         NaN   \n",
              "12496                                         NaN   \n",
              "12504                                         NaN   \n",
              "12513                                         NaN   \n",
              "\n",
              "        Skewness of the integrated profile   Mean of the DM-SNR curve  \\\n",
              "13                                0.307803                   5.307692   \n",
              "18                               -0.518847                   3.565217   \n",
              "37                                0.390775                   2.598662   \n",
              "51                               -0.400658                   1.832776   \n",
              "55                               -0.232142                   3.531773   \n",
              "...                                    ...                        ...   \n",
              "12489                             0.030844                   2.107860   \n",
              "12492                             0.576436                   2.368729   \n",
              "12496                             0.902152                   3.030100   \n",
              "12504                             2.503142                   3.262542   \n",
              "12513                            -0.564330                   0.527592   \n",
              "\n",
              "        Standard deviation of the DM-SNR curve  \\\n",
              "13                                   25.162295   \n",
              "18                                   22.372342   \n",
              "37                                   17.145047   \n",
              "51                                   17.559706   \n",
              "55                                   20.847988   \n",
              "...                                        ...   \n",
              "12489                                12.690788   \n",
              "12492                                      NaN   \n",
              "12496                                      NaN   \n",
              "12504                                21.981437   \n",
              "12513                                 8.985407   \n",
              "\n",
              "        Excess kurtosis of the DM-SNR curve   Skewness of the DM-SNR curve  \\\n",
              "13                                 5.497544                      32.739833   \n",
              "18                                 7.740922                      65.024844   \n",
              "37                                 8.498741                      85.013918   \n",
              "51                                10.530075                     117.131775   \n",
              "55                                 8.088508                      75.919711   \n",
              "...                                     ...                            ...   \n",
              "12489                             10.352528                     154.106467   \n",
              "12492                              9.520229                      98.357322   \n",
              "12496                              8.081578                      77.062141   \n",
              "12504                              7.249661                      54.863037   \n",
              "12513                             22.332707                     571.169156   \n",
              "\n",
              "       target_class  \n",
              "13              0.0  \n",
              "18              0.0  \n",
              "37              0.0  \n",
              "51              0.0  \n",
              "55              0.0  \n",
              "...             ...  \n",
              "12489           0.0  \n",
              "12492           0.0  \n",
              "12496           0.0  \n",
              "12504           0.0  \n",
              "12513           0.0  \n",
              "\n",
              "[1735 rows x 9 columns]"
            ]
          },
          "execution_count": 64,
          "metadata": {},
          "output_type": "execute_result"
        }
      ],
      "source": [
        "df[df[' Excess kurtosis of the integrated profile'].isna()] #the nan values of the column in the daa"
      ]
    },
    {
      "cell_type": "code",
      "execution_count": 65,
      "metadata": {},
      "outputs": [],
      "source": [
        "imputer = SimpleImputer(missing_values=np.NaN, strategy='mean')\n",
        " \n",
        "df = pd.DataFrame(imputer.fit_transform(df),columns= df.columns)\n",
        "\n",
        "#imputing the missing values with the mean as all the columns are numerical"
      ]
    },
    {
      "cell_type": "code",
      "execution_count": 66,
      "metadata": {},
      "outputs": [
        {
          "data": {
            "text/plain": [
              " Mean of the integrated profile                  0\n",
              " Standard deviation of the integrated profile    0\n",
              " Excess kurtosis of the integrated profile       0\n",
              " Skewness of the integrated profile              0\n",
              " Mean of the DM-SNR curve                        0\n",
              " Standard deviation of the DM-SNR curve          0\n",
              " Excess kurtosis of the DM-SNR curve             0\n",
              " Skewness of the DM-SNR curve                    0\n",
              "target_class                                     0\n",
              "dtype: int64"
            ]
          },
          "execution_count": 66,
          "metadata": {},
          "output_type": "execute_result"
        }
      ],
      "source": [
        "df.isna().sum()"
      ]
    },
    {
      "cell_type": "markdown",
      "metadata": {},
      "source": [
        "We can see that there are no null values now."
      ]
    },
    {
      "cell_type": "code",
      "execution_count": 67,
      "metadata": {},
      "outputs": [
        {
          "name": "stdout",
          "output_type": "stream",
          "text": [
            "<class 'pandas.core.frame.DataFrame'>\n",
            "RangeIndex: 12528 entries, 0 to 12527\n",
            "Data columns (total 9 columns):\n",
            " #   Column                                         Non-Null Count  Dtype  \n",
            "---  ------                                         --------------  -----  \n",
            " 0    Mean of the integrated profile                12528 non-null  float64\n",
            " 1    Standard deviation of the integrated profile  12528 non-null  float64\n",
            " 2    Excess kurtosis of the integrated profile     12528 non-null  float64\n",
            " 3    Skewness of the integrated profile            12528 non-null  float64\n",
            " 4    Mean of the DM-SNR curve                      12528 non-null  float64\n",
            " 5    Standard deviation of the DM-SNR curve        12528 non-null  float64\n",
            " 6    Excess kurtosis of the DM-SNR curve           12528 non-null  float64\n",
            " 7    Skewness of the DM-SNR curve                  12528 non-null  float64\n",
            " 8   target_class                                   12528 non-null  float64\n",
            "dtypes: float64(9)\n",
            "memory usage: 881.0 KB\n"
          ]
        }
      ],
      "source": [
        "df.info()"
      ]
    },
    {
      "cell_type": "code",
      "execution_count": 68,
      "metadata": {},
      "outputs": [],
      "source": [
        "#splitting the test train data\n",
        "\n",
        "Xtrain, Xtest, ytrain, ytest = train_test_split(df.iloc[:, :-1], df.iloc[:, -1], train_size = 0.8, random_state = 0)"
      ]
    },
    {
      "cell_type": "code",
      "execution_count": 69,
      "metadata": {},
      "outputs": [],
      "source": [
        "ypred = svm.LinearSVC(random_state= 20).fit(Xtrain, ytrain).predict(Xtest) #Predicting the data"
      ]
    },
    {
      "cell_type": "code",
      "execution_count": 70,
      "metadata": {},
      "outputs": [
        {
          "data": {
            "text/plain": [
              "0.9712689545091779"
            ]
          },
          "execution_count": 70,
          "metadata": {},
          "output_type": "execute_result"
        }
      ],
      "source": [
        "accuracy_score(ytest, ypred) #checking the accuracy score"
      ]
    },
    {
      "cell_type": "code",
      "execution_count": 71,
      "metadata": {},
      "outputs": [
        {
          "data": {
            "image/png": "[encoded data removed]",
            "text/plain": [
              "<Figure size 432x288 with 2 Axes>"
            ]
          },
          "metadata": {
            "needs_background": "light"
          },
          "output_type": "display_data"
        }
      ],
      "source": [
        "# the confusion matrix\n",
        "sns.heatmap(confusion_matrix(ytest, ypred), cmap= 'Blues', annot= True);"
      ]
    },
    {
      "cell_type": "code",
      "execution_count": 72,
      "metadata": {},
      "outputs": [],
      "source": [
        "ypred = svm.SVC(C=1.0, kernel='rbf', degree=3, gamma=0.1, coef0=0.0, shrinking=True, probability=False,tol=0.001, cache_size=200, class_weight=None, verbose=False, max_iter=-1, random_state=None).fit(Xtrain, ytrain).predict(Xtest) #Predicting the data"
      ]
    },
    {
      "cell_type": "code",
      "execution_count": 73,
      "metadata": {},
      "outputs": [
        {
          "data": {
            "text/plain": [
              "0.9134078212290503"
            ]
          },
          "execution_count": 73,
          "metadata": {},
          "output_type": "execute_result"
        }
      ],
      "source": [
        "accuracy_score(ytest, ypred)"
      ]
    },
    {
      "cell_type": "code",
      "execution_count": 74,
      "metadata": {},
      "outputs": [],
      "source": [
        "ypred = svm.SVC(C=1.0, kernel='linear', degree=3, gamma=0.1, coef0=0.0, shrinking=True, probability=False,tol=0.001, cache_size=200, class_weight=None, verbose=False, max_iter=-1, random_state=None).fit(Xtrain, ytrain).predict(Xtest) #Predicting the data"
      ]
    },
    {
      "cell_type": "code",
      "execution_count": 75,
      "metadata": {},
      "outputs": [
        {
          "data": {
            "text/plain": [
              "0.9776536312849162"
            ]
          },
          "execution_count": 75,
          "metadata": {},
          "output_type": "execute_result"
        }
      ],
      "source": [
        "accuracy_score(ytest, ypred)"
      ]
    },
    {
      "cell_type": "markdown",
      "metadata": {},
      "source": [
        "So, With linear Kernel of the SVM we get 0.6% more accuracy than traditional LinearSVC and almost 6% higher compared to the 'rbf' kernel"
      ]
    },
    {
      "cell_type": "code",
      "execution_count": 76,
      "metadata": {},
      "outputs": [
        {
          "data": {
            "text/plain": [
              "0.7828054298642534"
            ]
          },
          "execution_count": 76,
          "metadata": {},
          "output_type": "execute_result"
        }
      ],
      "source": [
        "recall_score(ytest, ypred)"
      ]
    },
    {
      "cell_type": "markdown",
      "metadata": {},
      "source": [
        "We got 78% of recall score using this method"
      ]
    }
  ],
  "metadata": {
    "colab": {
      "provenance": []
    },
    "kernelspec": {
      "display_name": "Python 3",
      "language": "python",
      "name": "python3"
    },
    "language_info": {
      "codemirror_mode": {
        "name": "ipython",
        "version": 3
      },
      "file_extension": ".py",
      "mimetype": "text/x-python",
      "name": "python",
      "nbconvert_exporter": "python",
      "pygments_lexer": "ipython3",
      "version": "3.11.1"
    },
    "vscode": {
      "interpreter": {
        "hash": "ec65a4c2b9d081afdcc4731d14b5a49aa34e90b445b382f1770f624913419734"
      }
    }
  },
  "nbformat": 4,
  "nbformat_minor": 0
}
